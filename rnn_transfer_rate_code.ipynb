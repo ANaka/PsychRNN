{
 "cells": [
  {
   "cell_type": "code",
   "execution_count": 29,
   "metadata": {},
   "outputs": [],
   "source": [
    "import importlib\n",
    "import psychrnn\n",
    "from psychrnn.tasks.task import Task\n",
    "from psychrnn.backend.models.basic import Basic, BasicSigmoid\n",
    "import numpy as np\n",
    "import pandas as pd\n",
    "import tensorflow as tf\n",
    "from matplotlib import pyplot as plt\n",
    "import seaborn as sns\n",
    "import scipy.cluster.hierarchy as spc\n",
    "\n",
    "%matplotlib inline\n",
    "importlib.reload(psychrnn)\n",
    "\n",
    "\n",
    "def weight_concat(model):\n",
    "    weights = model.get_weights()\n",
    "    inputw = np.concatenate([weights['W_in'],weights['W_rec']],axis = 1)\n",
    "    outputw = np.concatenate([weights['W_rec'].T,weights['W_out'].T],axis = 1)\n",
    "    allw = np.concatenate([inputw,outputw],axis = 1)\n",
    "    return inputw, outputw, allw\n",
    "def weight_sort_plot(W):\n",
    "    this_W = W\n",
    "    corr = np.corrcoef(this_W)\n",
    "    pdist = spc.distance.pdist(corr)\n",
    "    linkage = spc.linkage(pdist, method='complete')\n",
    "    corr_idx = np.argsort(spc.fcluster(linkage, 0.5 * pdist.max(), 'distance'))\n",
    "    corr_sort = np.corrcoef(this_W[corr_idx])\n",
    "    max_idx = np.argsort(np.argmax(this_W,axis = 1))\n",
    "    f,ax = plt.subplots(1,4,figsize = (16,4))\n",
    "    ax[0].imshow(corr_sort,aspect = 'auto')\n",
    "    ax[1].imshow(this_W,aspect = 'auto')\n",
    "    ax[2].imshow(this_W[corr_idx,:],aspect = 'auto')\n",
    "    ax[3].imshow(this_W[max_idx,:],aspect = 'auto')\n",
    "     \n",
    "# from brian2 import *"
   ]
  },
  {
   "cell_type": "code",
   "execution_count": 140,
   "metadata": {},
   "outputs": [],
   "source": [
    "dt = 10 # time-step\n",
    "tau = 100 # intrinsic time constant of neural state decay\n",
    "T = 1000 # time to run for (number of steps is T/dt)\n",
    "N_batch = 10 # number of trials per training step\n",
    "N_rec = 10 # number of recurrent units\n",
    "name = 'basicModel'\n",
    "N_in = 2\n",
    "N_out = 1"
   ]
  },
  {
   "cell_type": "code",
   "execution_count": 141,
   "metadata": {},
   "outputs": [],
   "source": [
    "\n",
    "\n",
    "class nxor(Task):\n",
    "    def __init__(self, N_in, N_out, dt, tau, T, N_batch):\n",
    "        super(nxor,self).__init__(N_in, N_out, dt, tau, T, N_batch)\n",
    "                                    #N_in, N_out\n",
    "    def generate_trial_params(self, batch, trial):\n",
    "\n",
    "        # ----------------------------------\n",
    "        # Define parameters of a trial\n",
    "        # ----------------------------------\n",
    "        params = dict()\n",
    "        params['onset'] = np.random.rand() * T * 0.6\n",
    "        params['duration'] = 500\n",
    "        params['delay'] = 10\n",
    "        params['inputs'] = np.random.binomial(1,0.5,size = 2)\n",
    "        params['outputs'] = params['inputs'][0] != params['inputs'][1]\n",
    "        params['neuron_noise'] = 0.01\n",
    "        \n",
    "        return params\n",
    "\n",
    "    def trial_function(self, t, params):\n",
    "        \n",
    "        x_t = np.zeros(self.N_in) \n",
    "        y_t = np.zeros(self.N_out) \n",
    "         \n",
    "\n",
    "        \n",
    "        if (t>params['onset']):\n",
    "            x_t += params['inputs'] + np.random.randn(self.N_in) * params['neuron_noise']\n",
    "            \n",
    "        if   t>(params['onset']+params['delay']):\n",
    "            y_t += params['outputs'] \n",
    "\n",
    "        mask_t = np.ones(self.N_out)\n",
    "        \n",
    "        return x_t, y_t, mask_t\n",
    "    \n",
    "class autoencode_plus_nxor(Task):\n",
    "    def __init__(self, N_in, N_out, dt, tau, T, N_batch):\n",
    "        super(autoencode_plus_nxor,self).__init__(N_in, N_out, dt, tau, T, N_batch)\n",
    "                                    #N_in, N_out\n",
    "    def generate_trial_params(self, batch, trial):\n",
    "\n",
    "        # ----------------------------------\n",
    "        # Define parameters of a trial\n",
    "        # ----------------------------------\n",
    "        params = dict()\n",
    "        params['onset'] = np.random.rand() * T * 0.6\n",
    "        params['duration'] = 500\n",
    "        params['delay'] = 10\n",
    "        params['inputs'] = np.random.binomial(1,0.5,size = 2)\n",
    "        params['outputs'] = params['inputs'][0] != params['inputs'][1]\n",
    "        params['input_noise'] = 0.5\n",
    "        \n",
    "        return params\n",
    "\n",
    "    def trial_function(self, t, params):\n",
    "        \n",
    "        x_t = np.zeros(self.N_in) \n",
    "        y_t = np.zeros(self.N_out) \n",
    "         \n",
    "\n",
    "        \n",
    "        if (t>params['onset']):\n",
    "            x_t += params['inputs'] + np.random.randn(self.N_in) * params['input_noise']\n",
    "            \n",
    "        if   t>(params['onset']+params['delay']):\n",
    "            y_t[:2] += params['inputs']\n",
    "            y_t[2] += params['outputs'] \n",
    "\n",
    "        mask_t = np.ones(self.N_out)\n",
    "        \n",
    "        return x_t, y_t, mask_t\n",
    "    \n",
    "    \n",
    "class nxor_onehot(Task):\n",
    "    def __init__(self, N_in, N_out, dt, tau, T, N_batch):\n",
    "        super(nxor_onehot,self).__init__(N_in, N_out, dt, tau, T, N_batch)\n",
    "                                    #N_in, N_out\n",
    "    def generate_trial_params(self, batch, trial):\n",
    "\n",
    "        # ----------------------------------\n",
    "        # Define parameters of a trial\n",
    "        # ----------------------------------\n",
    "        params = dict()\n",
    "        params['onset'] = np.random.rand() * T * 0.6\n",
    "        params['duration'] = 500\n",
    "        params['delay'] = 10\n",
    "        params['inputs'] = np.random.binomial(1,0.5,size = 2)\n",
    "        params['outputs'] = np.zeros(self.N_out)\n",
    "        params['outputs'][0] = params['inputs'][0] != params['inputs'][1]\n",
    "        params['outputs'][1] = int(not params['outputs'][0])\n",
    "        params['neuron_noise'] = 0.01\n",
    "        \n",
    "        return params\n",
    "\n",
    "    def trial_function(self, t, params):\n",
    "        \n",
    "        x_t = np.zeros(self.N_in) \n",
    "        y_t = np.zeros(self.N_out) \n",
    "         \n",
    "\n",
    "        \n",
    "        if (t>params['onset']):\n",
    "            x_t += params['inputs'] + np.random.randn(self.N_in) * params['neuron_noise']\n",
    "            \n",
    "        if   t>(params['onset']+params['delay']):\n",
    "            y_t += params['outputs'] \n",
    "\n",
    "        mask_t = np.ones(self.N_out)\n",
    "        \n",
    "        return x_t, y_t, mask_t\n",
    "    \n",
    "    \n",
    "class nxor_onehot_cue(Task):\n",
    "    def __init__(self, N_in, N_out, dt, tau, T, N_batch):\n",
    "        super(nxor_onehot_cue,self).__init__(N_in, N_out, dt, tau, T, N_batch)\n",
    "                                    #N_in, N_out\n",
    "    def generate_trial_params(self, batch, trial):\n",
    "\n",
    "        # ----------------------------------\n",
    "        # Define parameters of a trial\n",
    "        # ----------------------------------\n",
    "        params = dict()\n",
    "        params['onset'] = np.random.rand() * T * 0.6\n",
    "        params['duration'] = 500\n",
    "        params['delay'] = 10\n",
    "        params['inputs'] = np.random.binomial(1,0.5,size = 2)\n",
    "        params['outputs'] = np.zeros(self.N_out)\n",
    "        params['outputs'][0] = params['inputs'][0] != params['inputs'][1]\n",
    "        params['outputs'][1] = int(not params['outputs'][0])\n",
    "        params['neuron_noise'] = 0.01\n",
    "        \n",
    "        return params\n",
    "\n",
    "    def trial_function(self, t, params):\n",
    "        \n",
    "        x_t = np.zeros(self.N_in) \n",
    "        y_t = np.zeros(self.N_out) \n",
    "         \n",
    "\n",
    "        \n",
    "        if (t>params['onset']):\n",
    "            x_t[:2] += params['inputs'] + np.random.randn(2) * params['neuron_noise']\n",
    "            \n",
    "        if   (t>params['onset']) and (t<(params['onset']+params['delay'] )): \n",
    "            x_t[2] = 1\n",
    "            \n",
    "        if   t>(params['onset']+params['delay']):\n",
    "            y_t += params['outputs'] \n",
    "\n",
    "        mask_t = np.ones(self.N_out)\n",
    "        \n",
    "        return x_t, y_t, mask_t    \n",
    "    \n",
    "class mean_with_gain_mod(Task):\n",
    "    \n",
    "    def __init__(self,dt, tau, T, N_batch):\n",
    "        super(mean_with_gain_mod,self).__init__(2, 1, dt, tau, T, N_batch)\n",
    "                                    #N_in, N_out\n",
    "    def generate_trial_params(self, batch, trial):\n",
    "\n",
    "        # ----------------------------------\n",
    "        # Define parameters of a trial\n",
    "        # ----------------------------------\n",
    "        params = dict()\n",
    "        params['onset'] = np.random.rand() * T * 0.6\n",
    "        params['duration'] = 300\n",
    "        params['input_mean'] = np.random.uniform()\n",
    "        params['input_std'] = 0.1\n",
    "        params['modulation'] = np.random.choice([0.5, 1, 2])\n",
    "        params['output'] = params['input_mean'] * params['modulation']\n",
    "        return params\n",
    "\n",
    "    def trial_function(self, t, params):\n",
    "        \n",
    "        x_t = np.zeros(self.N_in) \n",
    "        y_t = np.zeros(self.N_out) \n",
    "         \n",
    "\n",
    "        x_t[1] = params['modulation']\n",
    "        if (t>params['onset']) and (t<(params['onset'] + params['duration'])):\n",
    "            x_t[0] += params['input_mean'] + np.random.randn() * params['input_std']\n",
    "        if (t>params['onset']) and (t<(params['onset'] + params['duration'])):\n",
    "            y_t += params['output'] \n",
    "\n",
    "        mask_t = np.ones(self.N_out)\n",
    "        \n",
    "        return x_t, y_t, mask_t    \n",
    "    \n",
    "class summate_with_gain_mod(Task):\n",
    "    \n",
    "    def __init__(self,dt, tau, T, N_batch):\n",
    "        super(summate_with_gain_mod,self).__init__(21, 1, dt, tau, T, N_batch)\n",
    "                                    #N_in, N_out\n",
    "    def generate_trial_params(self, batch, trial):\n",
    "\n",
    "        # ----------------------------------\n",
    "        # Define parameters of a trial\n",
    "        # ----------------------------------\n",
    "        params = dict()\n",
    "        params['onset'] = np.random.rand() * T * 0.4\n",
    "        params['duration'] = 100\n",
    "        params['input_mean'] = np.random.uniform()\n",
    "        params['input_std'] = 0.3\n",
    "        params['modulation'] = np.random.choice([0.5, 1, 2])\n",
    "        params['output'] = params['input_mean'] * params['modulation']\n",
    "        return params\n",
    "\n",
    "    def trial_function(self, t, params):\n",
    "        \n",
    "        x_t = np.zeros(self.N_in) \n",
    "        y_t = np.zeros(self.N_out) \n",
    "         \n",
    "        if t>5:\n",
    "            x_t[0] = params['modulation']\n",
    "        if (t>params['onset']) and (t<(params['onset'] + params['duration'])):\n",
    "            x_t[1:] += params['input_mean'] + np.random.randn((self.N_in-1)) * params['input_std']\n",
    "        if (t>params['onset']) and (t<(params['onset'] + params['duration'])):\n",
    "            y_t += params['output'] \n",
    "\n",
    "        mask_t = np.ones(self.N_out)\n",
    "        \n",
    "        return x_t, y_t, mask_t    "
   ]
  },
  {
   "cell_type": "code",
   "execution_count": 142,
   "metadata": {},
   "outputs": [
    {
     "name": "stdout",
     "output_type": "stream",
     "text": [
      "{'N_batch': 10, 'N_in': 21, 'N_out': 1, 'dt': 10, 'tau': 100, 'T': 1000, 'alpha': 0.1, 'N_steps': 100}\n"
     ]
    }
   ],
   "source": [
    "# swv = nxor(N_in = 2, N_out = 1, dt = dt, tau = tau, T = T, N_batch = N_batch)\n",
    "# swv = nxor_onehot(N_in = 2, N_out = 2, dt = dt, tau = tau, T = T, N_batch = N_batch)\n",
    "# swv = nxor_onehot_cue(N_in = 3, N_out = 2, dt = dt, tau = tau, T = T, N_batch = N_batch)\n",
    "# swv = autoencode_plus_nxor(N_in = 2, N_out = 3, dt = dt, tau = tau, T = T, N_batch = N_batch)\n",
    "swv = summate_with_gain_mod(dt = dt, tau = tau, T = T, N_batch = N_batch)\n",
    "gen = swv.batch_generator()\n",
    "tgen = swv.batch_generator_with_params()\n",
    "params = swv.__dict__\n",
    "print(params)"
   ]
  },
  {
   "cell_type": "code",
   "execution_count": 143,
   "metadata": {},
   "outputs": [
    {
     "data": {
      "text/plain": [
       "[<matplotlib.lines.Line2D at 0x28e9e539748>]"
      ]
     },
     "execution_count": 143,
     "metadata": {},
     "output_type": "execute_result"
    },
    {
     "data": {
      "image/png": "[encoded data removed]",
      "text/plain": [
       "<Figure size 864x360 with 2 Axes>"
      ]
     },
     "metadata": {},
     "output_type": "display_data"
    }
   ],
   "source": [
    "x,y,m = next(gen)\n",
    "f,ax = plt.subplots(1,2,figsize = (12,5))\n",
    "# ax[0].plot(x[0,:,1:])\n",
    "ax[0].plot(x[0,:,1:].mean(axis = 1))\n",
    "ax[1].plot(y[0,:,:])"
   ]
  },
  {
   "cell_type": "code",
   "execution_count": 182,
   "metadata": {},
   "outputs": [],
   "source": [
    "params['name'] = name #Used to scope out a namespace for global variables.\n",
    "params['N_rec'] = N_rec\n",
    "params['dale_ratio'] = 0.7 # Default: None -- when the dale_ratio is set, dale's law is applied\n",
    "params['rec_noise'] = 0.05 # Default: 0.0 -- how much noise to add to the new_state calculation\n",
    "params['W_in_train'] = True # Indicates whether W_in is trainable. Default: True\n",
    "params['W_rec_train'] = True # Indicates whether W_rec is trainable. Default: True\n",
    "params['W_out_train'] = True # Indicates whether W_out is trainable. Default: True\n",
    "params['b_rec_train'] = True # Indicates whether b_rec is trainable. Default: True\n",
    "params['b_out_train'] = True # Indicates whether b_out is trainable. Default: True\n",
    "params['init_state_train'] = True # Indicates whether init_state is trainable. Default: True\n",
    "params['load_weights_path'] = None # When given a path, loads weights from file in that path. Default: None\n",
    "\n",
    "params['L2_out'] = 0\n",
    "params['L2_rec'] = 0\n",
    "params['L2_in'] = 0\n",
    "params['L2_firing_rate_reg'] = 0\n",
    "\n",
    "params['L1_firing_rate_reg'] = 0\n",
    "params['L1_out'] = 0.1\n",
    "params['L1_in'] = 0.1\n",
    "params['L1_rec'] = 0.1"
   ]
  },
  {
   "cell_type": "code",
   "execution_count": 183,
   "metadata": {},
   "outputs": [],
   "source": [
    "basicModel.destruct()"
   ]
  },
  {
   "cell_type": "code",
   "execution_count": 184,
   "metadata": {},
   "outputs": [
    {
     "data": {
      "text/plain": [
       "{'save_weights_path': '../weights/refactor_weights.npz',\n",
       " 'training_iters': 15000,\n",
       " 'learning_rate': 0.001,\n",
       " 'loss_epoch': 10,\n",
       " 'verbosity': True,\n",
       " 'save_training_weights_epoch': 100,\n",
       " 'training_weights_path': None,\n",
       " 'generator_function': None,\n",
       " 'optimizer': <tensorflow.python.training.adam.AdamOptimizer at 0x28ebd53a4e0>,\n",
       " 'clip_grads': True}"
      ]
     },
     "execution_count": 184,
     "metadata": {},
     "output_type": "execute_result"
    }
   ],
   "source": [
    "basicModel = Basic(params)\n",
    "basicModel.build()\n",
    "train_params = {}\n",
    "train_params['save_weights_path'] =  '../weights/refactor_weights.npz' # Where to save the model after training. Default: None\n",
    "train_params['training_iters'] = 15000 # number of iterations to train for Default: 10000\n",
    "train_params['learning_rate'] = .001 # Sets learning rate if use default optimizer Default: .001\n",
    "train_params['loss_epoch'] = 10 # Compute and record loss every 'loss_epoch' epochs. Default: 10\n",
    "train_params['verbosity'] = True # If true, prints information as training progresses. Default: True\n",
    "train_params['save_training_weights_epoch'] = 100 # save training weights every 'save_training_weights_epoch' epochs. Default: 100\n",
    "train_params['training_weights_path'] = None # where to save training weights as training progresses. Default: None\n",
    "train_params['generator_function'] = None # replaces trial_batch_generator with the generator_function when not none. Default: None\n",
    "train_params['optimizer'] = tf.train.AdamOptimizer(learning_rate=train_params['learning_rate']) # What optimizer to use to compute gradients. Default: tf.train.AdamOptimizer(learning_rate=train_params['learning_rate'])\n",
    "train_params['clip_grads'] = True # If true, clip gradients by norm 1. Default: True\n",
    "train_params"
   ]
  },
  {
   "cell_type": "code",
   "execution_count": 185,
   "metadata": {
    "scrolled": true
   },
   "outputs": [
    {
     "name": "stdout",
     "output_type": "stream",
     "text": [
      "Iter 100, Minibatch Loss= 0.077365\n",
      "Iter 200, Minibatch Loss= 0.055941\n",
      "Iter 300, Minibatch Loss= 0.080563\n",
      "Iter 400, Minibatch Loss= 0.068982\n",
      "Iter 500, Minibatch Loss= 0.085317\n",
      "Iter 600, Minibatch Loss= 0.074550\n",
      "Iter 700, Minibatch Loss= 0.044915\n",
      "Iter 800, Minibatch Loss= 0.064021\n",
      "Iter 900, Minibatch Loss= 0.072576\n",
      "Iter 1000, Minibatch Loss= 0.104524\n",
      "Training weights saved in file: None100\n",
      "Iter 1100, Minibatch Loss= 0.049214\n",
      "Iter 1200, Minibatch Loss= 0.054280\n",
      "Iter 1300, Minibatch Loss= 0.080669\n",
      "Iter 1400, Minibatch Loss= 0.056260\n",
      "Iter 1500, Minibatch Loss= 0.056118\n",
      "Iter 1600, Minibatch Loss= 0.101721\n",
      "Iter 1700, Minibatch Loss= 0.061103\n",
      "Iter 1800, Minibatch Loss= 0.047588\n",
      "Iter 1900, Minibatch Loss= 0.071165\n",
      "Iter 2000, Minibatch Loss= 0.058817\n",
      "Training weights saved in file: None200\n",
      "Iter 2100, Minibatch Loss= 0.054765\n",
      "Iter 2200, Minibatch Loss= 0.057249\n",
      "Iter 2300, Minibatch Loss= 0.040414\n",
      "Iter 2400, Minibatch Loss= 0.033926\n",
      "Iter 2500, Minibatch Loss= 0.092880\n",
      "Iter 2600, Minibatch Loss= 0.056998\n",
      "Iter 2700, Minibatch Loss= 0.056106\n",
      "Iter 2800, Minibatch Loss= 0.046992\n",
      "Iter 2900, Minibatch Loss= 0.038995\n",
      "Iter 3000, Minibatch Loss= 0.039420\n",
      "Training weights saved in file: None300\n",
      "Iter 3100, Minibatch Loss= 0.043991\n",
      "Iter 3200, Minibatch Loss= 0.038738\n",
      "Iter 3300, Minibatch Loss= 0.041075\n",
      "Iter 3400, Minibatch Loss= 0.044373\n",
      "Iter 3500, Minibatch Loss= 0.047856\n",
      "Iter 3600, Minibatch Loss= 0.063042\n",
      "Iter 3700, Minibatch Loss= 0.051986\n",
      "Iter 3800, Minibatch Loss= 0.046210\n",
      "Iter 3900, Minibatch Loss= 0.036523\n",
      "Iter 4000, Minibatch Loss= 0.034526\n",
      "Training weights saved in file: None400\n",
      "Iter 4100, Minibatch Loss= 0.046550\n",
      "Iter 4200, Minibatch Loss= 0.043738\n",
      "Iter 4300, Minibatch Loss= 0.036013\n",
      "Iter 4400, Minibatch Loss= 0.043133\n",
      "Iter 4500, Minibatch Loss= 0.064246\n",
      "Iter 4600, Minibatch Loss= 0.060806\n",
      "Iter 4700, Minibatch Loss= 0.034591\n",
      "Iter 4800, Minibatch Loss= 0.058204\n",
      "Iter 4900, Minibatch Loss= 0.045604\n",
      "Iter 5000, Minibatch Loss= 0.050624\n",
      "Training weights saved in file: None500\n",
      "Iter 5100, Minibatch Loss= 0.048421\n",
      "Iter 5200, Minibatch Loss= 0.033085\n",
      "Iter 5300, Minibatch Loss= 0.050851\n",
      "Iter 5400, Minibatch Loss= 0.040274\n",
      "Iter 5500, Minibatch Loss= 0.033466\n",
      "Iter 5600, Minibatch Loss= 0.042366\n",
      "Iter 5700, Minibatch Loss= 0.048161\n",
      "Iter 5800, Minibatch Loss= 0.029347\n",
      "Iter 5900, Minibatch Loss= 0.045221\n",
      "Iter 6000, Minibatch Loss= 0.048321\n",
      "Training weights saved in file: None600\n",
      "Iter 6100, Minibatch Loss= 0.039648\n",
      "Iter 6200, Minibatch Loss= 0.050202\n",
      "Iter 6300, Minibatch Loss= 0.038212\n",
      "Iter 6400, Minibatch Loss= 0.047289\n",
      "Iter 6500, Minibatch Loss= 0.028414\n",
      "Iter 6600, Minibatch Loss= 0.037858\n",
      "Iter 6700, Minibatch Loss= 0.047085\n",
      "Iter 6800, Minibatch Loss= 0.050968\n",
      "Iter 6900, Minibatch Loss= 0.036034\n",
      "Iter 7000, Minibatch Loss= 0.036082\n",
      "Training weights saved in file: None700\n",
      "Iter 7100, Minibatch Loss= 0.043971\n",
      "Iter 7200, Minibatch Loss= 0.041373\n",
      "Iter 7300, Minibatch Loss= 0.038930\n",
      "Iter 7400, Minibatch Loss= 0.041791\n",
      "Iter 7500, Minibatch Loss= 0.027364\n",
      "Iter 7600, Minibatch Loss= 0.041979\n",
      "Iter 7700, Minibatch Loss= 0.031386\n",
      "Iter 7800, Minibatch Loss= 0.038170\n",
      "Iter 7900, Minibatch Loss= 0.049738\n",
      "Iter 8000, Minibatch Loss= 0.055473\n",
      "Training weights saved in file: None800\n",
      "Iter 8100, Minibatch Loss= 0.029350\n",
      "Iter 8200, Minibatch Loss= 0.032338\n",
      "Iter 8300, Minibatch Loss= 0.031354\n",
      "Iter 8400, Minibatch Loss= 0.032946\n",
      "Iter 8500, Minibatch Loss= 0.039088\n",
      "Iter 8600, Minibatch Loss= 0.047674\n",
      "Iter 8700, Minibatch Loss= 0.028277\n",
      "Iter 8800, Minibatch Loss= 0.042428\n",
      "Iter 8900, Minibatch Loss= 0.034042\n",
      "Iter 9000, Minibatch Loss= 0.035965\n",
      "Training weights saved in file: None900\n",
      "Iter 9100, Minibatch Loss= 0.031449\n",
      "Iter 9200, Minibatch Loss= 0.041107\n",
      "Iter 9300, Minibatch Loss= 0.054192\n",
      "Iter 9400, Minibatch Loss= 0.044535\n",
      "Iter 9500, Minibatch Loss= 0.031620\n",
      "Iter 9600, Minibatch Loss= 0.048377\n",
      "Iter 9700, Minibatch Loss= 0.045354\n",
      "Iter 9800, Minibatch Loss= 0.039808\n",
      "Iter 9900, Minibatch Loss= 0.040528\n",
      "Iter 10000, Minibatch Loss= 0.046980\n",
      "Training weights saved in file: None1000\n",
      "Iter 10100, Minibatch Loss= 0.055662\n",
      "Iter 10200, Minibatch Loss= 0.033449\n",
      "Iter 10300, Minibatch Loss= 0.043255\n",
      "Iter 10400, Minibatch Loss= 0.036141\n",
      "Iter 10500, Minibatch Loss= 0.038421\n",
      "Iter 10600, Minibatch Loss= 0.038312\n",
      "Iter 10700, Minibatch Loss= 0.032921\n",
      "Iter 10800, Minibatch Loss= 0.037966\n",
      "Iter 10900, Minibatch Loss= 0.036714\n",
      "Iter 11000, Minibatch Loss= 0.048647\n",
      "Training weights saved in file: None1100\n",
      "Iter 11100, Minibatch Loss= 0.036582\n",
      "Iter 11200, Minibatch Loss= 0.031054\n",
      "Iter 11300, Minibatch Loss= 0.032847\n",
      "Iter 11400, Minibatch Loss= 0.037672\n",
      "Iter 11500, Minibatch Loss= 0.047446\n",
      "Iter 11600, Minibatch Loss= 0.029257\n",
      "Iter 11700, Minibatch Loss= 0.028240\n",
      "Iter 11800, Minibatch Loss= 0.029478\n",
      "Iter 11900, Minibatch Loss= 0.057364\n",
      "Iter 12000, Minibatch Loss= 0.038413\n",
      "Training weights saved in file: None1200\n",
      "Iter 12100, Minibatch Loss= 0.032292\n",
      "Iter 12200, Minibatch Loss= 0.033181\n",
      "Iter 12300, Minibatch Loss= 0.029768\n",
      "Iter 12400, Minibatch Loss= 0.042367\n",
      "Iter 12500, Minibatch Loss= 0.049501\n",
      "Iter 12600, Minibatch Loss= 0.046837\n",
      "Iter 12700, Minibatch Loss= 0.026510\n",
      "Iter 12800, Minibatch Loss= 0.029890\n",
      "Iter 12900, Minibatch Loss= 0.041123\n",
      "Iter 13000, Minibatch Loss= 0.035414\n",
      "Training weights saved in file: None1300\n",
      "Iter 13100, Minibatch Loss= 0.032632\n",
      "Iter 13200, Minibatch Loss= 0.028676\n",
      "Iter 13300, Minibatch Loss= 0.031722\n",
      "Iter 13400, Minibatch Loss= 0.032015\n",
      "Iter 13500, Minibatch Loss= 0.040180\n",
      "Iter 13600, Minibatch Loss= 0.035337\n",
      "Iter 13700, Minibatch Loss= 0.032929\n",
      "Iter 13800, Minibatch Loss= 0.038131\n",
      "Iter 13900, Minibatch Loss= 0.023864\n",
      "Iter 14000, Minibatch Loss= 0.033725\n",
      "Training weights saved in file: None1400\n",
      "Iter 14100, Minibatch Loss= 0.035440\n",
      "Iter 14200, Minibatch Loss= 0.027369\n",
      "Iter 14300, Minibatch Loss= 0.040718\n",
      "Iter 14400, Minibatch Loss= 0.033008\n",
      "Iter 14500, Minibatch Loss= 0.037333\n",
      "Iter 14600, Minibatch Loss= 0.033430\n",
      "Iter 14700, Minibatch Loss= 0.043917\n",
      "Iter 14800, Minibatch Loss= 0.033575\n",
      "Iter 14900, Minibatch Loss= 0.026002\n",
      "Optimization finished!\n",
      "Model saved in file: ../weights/refactor_weights.npz\n"
     ]
    },
    {
     "data": {
      "text/plain": [
       "([0.07736503,\n",
       "  0.05594062,\n",
       "  0.08056344,\n",
       "  0.06898247,\n",
       "  0.085317254,\n",
       "  0.07455048,\n",
       "  0.044914678,\n",
       "  0.06402128,\n",
       "  0.07257557,\n",
       "  0.1045244,\n",
       "  0.04921379,\n",
       "  0.054279827,\n",
       "  0.08066926,\n",
       "  0.056259684,\n",
       "  0.056117944,\n",
       "  0.1017209,\n",
       "  0.06110301,\n",
       "  0.04758836,\n",
       "  0.07116528,\n",
       "  0.058817096,\n",
       "  0.054765232,\n",
       "  0.057248812,\n",
       "  0.040413853,\n",
       "  0.03392622,\n",
       "  0.09288011,\n",
       "  0.056997813,\n",
       "  0.056106303,\n",
       "  0.046992272,\n",
       "  0.03899515,\n",
       "  0.03942048,\n",
       "  0.04399085,\n",
       "  0.038738497,\n",
       "  0.041075274,\n",
       "  0.044372812,\n",
       "  0.047856204,\n",
       "  0.063042134,\n",
       "  0.051986217,\n",
       "  0.04620999,\n",
       "  0.0365234,\n",
       "  0.03452581,\n",
       "  0.04654995,\n",
       "  0.043737892,\n",
       "  0.036012944,\n",
       "  0.043132603,\n",
       "  0.06424555,\n",
       "  0.060805857,\n",
       "  0.0345907,\n",
       "  0.058203913,\n",
       "  0.04560393,\n",
       "  0.050624333,\n",
       "  0.04842123,\n",
       "  0.03308522,\n",
       "  0.050850686,\n",
       "  0.04027427,\n",
       "  0.033466294,\n",
       "  0.042366393,\n",
       "  0.048160616,\n",
       "  0.029347168,\n",
       "  0.045221243,\n",
       "  0.048321392,\n",
       "  0.039647788,\n",
       "  0.0502022,\n",
       "  0.038211893,\n",
       "  0.0472892,\n",
       "  0.028414099,\n",
       "  0.037858088,\n",
       "  0.047084816,\n",
       "  0.05096759,\n",
       "  0.036034223,\n",
       "  0.03608245,\n",
       "  0.043970563,\n",
       "  0.041372806,\n",
       "  0.03893001,\n",
       "  0.041790895,\n",
       "  0.027364366,\n",
       "  0.04197866,\n",
       "  0.031386357,\n",
       "  0.038170315,\n",
       "  0.04973788,\n",
       "  0.0554735,\n",
       "  0.02934962,\n",
       "  0.03233829,\n",
       "  0.03135421,\n",
       "  0.032945506,\n",
       "  0.03908778,\n",
       "  0.04767419,\n",
       "  0.02827746,\n",
       "  0.042428285,\n",
       "  0.034041673,\n",
       "  0.035965014,\n",
       "  0.03144927,\n",
       "  0.04110726,\n",
       "  0.054191932,\n",
       "  0.044534817,\n",
       "  0.03161986,\n",
       "  0.048376992,\n",
       "  0.045354262,\n",
       "  0.039807513,\n",
       "  0.040527984,\n",
       "  0.04697991,\n",
       "  0.055662192,\n",
       "  0.03344866,\n",
       "  0.043254875,\n",
       "  0.036140546,\n",
       "  0.03842104,\n",
       "  0.038312256,\n",
       "  0.032921195,\n",
       "  0.037966494,\n",
       "  0.036713712,\n",
       "  0.048646796,\n",
       "  0.036582056,\n",
       "  0.031053819,\n",
       "  0.03284702,\n",
       "  0.03767209,\n",
       "  0.047445863,\n",
       "  0.02925706,\n",
       "  0.028239584,\n",
       "  0.029478414,\n",
       "  0.057364393,\n",
       "  0.038412936,\n",
       "  0.03229212,\n",
       "  0.033181448,\n",
       "  0.029767979,\n",
       "  0.042366803,\n",
       "  0.049500987,\n",
       "  0.046836585,\n",
       "  0.026509508,\n",
       "  0.029889697,\n",
       "  0.041123,\n",
       "  0.035414405,\n",
       "  0.032631822,\n",
       "  0.02867566,\n",
       "  0.031722352,\n",
       "  0.032014556,\n",
       "  0.040179618,\n",
       "  0.03533737,\n",
       "  0.032928634,\n",
       "  0.03813131,\n",
       "  0.023863722,\n",
       "  0.033725083,\n",
       "  0.035439502,\n",
       "  0.027369283,\n",
       "  0.04071816,\n",
       "  0.03300836,\n",
       "  0.03733319,\n",
       "  0.033430144,\n",
       "  0.04391682,\n",
       "  0.033575043,\n",
       "  0.02600154],\n",
       " 39.58091402053833,\n",
       " 8.124143838882446)"
      ]
     },
     "execution_count": 185,
     "metadata": {},
     "output_type": "execute_result"
    }
   ],
   "source": [
    "basicModel.train(gen, train_params)"
   ]
  },
  {
   "cell_type": "code",
   "execution_count": 186,
   "metadata": {},
   "outputs": [],
   "source": [
    "x,y,m,p = next(tgen)\n",
    "results = basicModel.test(x)\n",
    "output = results[0]\n",
    "state_var = results[1]"
   ]
  },
  {
   "cell_type": "code",
   "execution_count": 187,
   "metadata": {},
   "outputs": [
    {
     "data": {
      "image/png": "[encoded data removed]",
      "text/plain": [
       "<Figure size 432x288 with 1 Axes>"
      ]
     },
     "metadata": {},
     "output_type": "display_data"
    }
   ],
   "source": [
    "output0 = output[:,:,0].copy()\n",
    "plt.plot(output0.T);"
   ]
  },
  {
   "cell_type": "code",
   "execution_count": 188,
   "metadata": {},
   "outputs": [
    {
     "ename": "AxisError",
     "evalue": "axis 1 is out of bounds for array of dimension 1",
     "output_type": "error",
     "traceback": [
      "\u001b[1;31m---------------------------------------------------------------------------\u001b[0m",
      "\u001b[1;31mAxisError\u001b[0m                                 Traceback (most recent call last)",
      "\u001b[1;32m<ipython-input-188-cbc113c16ce7>\u001b[0m in \u001b[0;36m<module>\u001b[1;34m\u001b[0m\n\u001b[0;32m      1\u001b[0m \u001b[0mp_inputs\u001b[0m \u001b[1;33m=\u001b[0m \u001b[0mnp\u001b[0m\u001b[1;33m.\u001b[0m\u001b[0mstack\u001b[0m\u001b[1;33m(\u001b[0m\u001b[1;33m[\u001b[0m\u001b[0mtp\u001b[0m\u001b[1;33m[\u001b[0m\u001b[1;34m'input_mean'\u001b[0m\u001b[1;33m]\u001b[0m \u001b[1;32mfor\u001b[0m \u001b[0mtp\u001b[0m \u001b[1;32min\u001b[0m \u001b[0mp\u001b[0m\u001b[1;33m]\u001b[0m\u001b[1;33m)\u001b[0m\u001b[1;33m\u001b[0m\u001b[1;33m\u001b[0m\u001b[0m\n\u001b[0;32m      2\u001b[0m \u001b[0mp_outputs\u001b[0m \u001b[1;33m=\u001b[0m \u001b[0mnp\u001b[0m\u001b[1;33m.\u001b[0m\u001b[0mstack\u001b[0m\u001b[1;33m(\u001b[0m\u001b[1;33m[\u001b[0m\u001b[0mtp\u001b[0m\u001b[1;33m[\u001b[0m\u001b[1;34m'output'\u001b[0m\u001b[1;33m]\u001b[0m \u001b[1;32mfor\u001b[0m \u001b[0mtp\u001b[0m \u001b[1;32min\u001b[0m \u001b[0mp\u001b[0m\u001b[1;33m]\u001b[0m\u001b[1;33m)\u001b[0m\u001b[1;33m\u001b[0m\u001b[1;33m\u001b[0m\u001b[0m\n\u001b[1;32m----> 3\u001b[1;33m \u001b[0mp_io\u001b[0m \u001b[1;33m=\u001b[0m \u001b[0mnp\u001b[0m\u001b[1;33m.\u001b[0m\u001b[0mconcatenate\u001b[0m\u001b[1;33m(\u001b[0m\u001b[1;33m[\u001b[0m\u001b[0mp_inputs\u001b[0m\u001b[1;33m,\u001b[0m\u001b[0mp_outputs\u001b[0m\u001b[1;33m]\u001b[0m\u001b[1;33m,\u001b[0m\u001b[0maxis\u001b[0m \u001b[1;33m=\u001b[0m \u001b[1;36m1\u001b[0m\u001b[1;33m)\u001b[0m\u001b[1;33m.\u001b[0m\u001b[0mastype\u001b[0m\u001b[1;33m(\u001b[0m\u001b[0mint\u001b[0m\u001b[1;33m)\u001b[0m\u001b[1;33m\u001b[0m\u001b[1;33m\u001b[0m\u001b[0m\n\u001b[0m",
      "\u001b[1;31mAxisError\u001b[0m: axis 1 is out of bounds for array of dimension 1"
     ]
    }
   ],
   "source": [
    "p_inputs = np.stack([tp['input_mean'] for tp in p])\n",
    "p_outputs = np.stack([tp['output'] for tp in p])\n",
    "p_io = np.concatenate([p_inputs,p_outputs],axis = 1).astype(int)"
   ]
  },
  {
   "cell_type": "code",
   "execution_count": 33,
   "metadata": {},
   "outputs": [
    {
     "data": {
      "text/html": [
       "<div>\n",
       "<style scoped>\n",
       "    .dataframe tbody tr th:only-of-type {\n",
       "        vertical-align: middle;\n",
       "    }\n",
       "\n",
       "    .dataframe tbody tr th {\n",
       "        vertical-align: top;\n",
       "    }\n",
       "\n",
       "    .dataframe thead th {\n",
       "        text-align: right;\n",
       "    }\n",
       "</style>\n",
       "<table border=\"1\" class=\"dataframe\">\n",
       "  <thead>\n",
       "    <tr style=\"text-align: right;\">\n",
       "      <th></th>\n",
       "      <th>i1_trial</th>\n",
       "      <th>i2_trial</th>\n",
       "      <th>o1_trial</th>\n",
       "      <th>o2_trial</th>\n",
       "    </tr>\n",
       "  </thead>\n",
       "  <tbody>\n",
       "    <tr>\n",
       "      <th>0</th>\n",
       "      <td>1</td>\n",
       "      <td>0</td>\n",
       "      <td>1</td>\n",
       "      <td>0</td>\n",
       "    </tr>\n",
       "    <tr>\n",
       "      <th>1</th>\n",
       "      <td>1</td>\n",
       "      <td>1</td>\n",
       "      <td>0</td>\n",
       "      <td>1</td>\n",
       "    </tr>\n",
       "    <tr>\n",
       "      <th>2</th>\n",
       "      <td>1</td>\n",
       "      <td>1</td>\n",
       "      <td>0</td>\n",
       "      <td>1</td>\n",
       "    </tr>\n",
       "    <tr>\n",
       "      <th>3</th>\n",
       "      <td>0</td>\n",
       "      <td>0</td>\n",
       "      <td>0</td>\n",
       "      <td>1</td>\n",
       "    </tr>\n",
       "    <tr>\n",
       "      <th>4</th>\n",
       "      <td>0</td>\n",
       "      <td>1</td>\n",
       "      <td>1</td>\n",
       "      <td>0</td>\n",
       "    </tr>\n",
       "    <tr>\n",
       "      <th>5</th>\n",
       "      <td>0</td>\n",
       "      <td>0</td>\n",
       "      <td>0</td>\n",
       "      <td>1</td>\n",
       "    </tr>\n",
       "    <tr>\n",
       "      <th>6</th>\n",
       "      <td>0</td>\n",
       "      <td>0</td>\n",
       "      <td>0</td>\n",
       "      <td>1</td>\n",
       "    </tr>\n",
       "    <tr>\n",
       "      <th>7</th>\n",
       "      <td>1</td>\n",
       "      <td>1</td>\n",
       "      <td>0</td>\n",
       "      <td>1</td>\n",
       "    </tr>\n",
       "    <tr>\n",
       "      <th>8</th>\n",
       "      <td>0</td>\n",
       "      <td>1</td>\n",
       "      <td>1</td>\n",
       "      <td>0</td>\n",
       "    </tr>\n",
       "    <tr>\n",
       "      <th>9</th>\n",
       "      <td>0</td>\n",
       "      <td>1</td>\n",
       "      <td>1</td>\n",
       "      <td>0</td>\n",
       "    </tr>\n",
       "  </tbody>\n",
       "</table>\n",
       "</div>"
      ],
      "text/plain": [
       "   i1_trial  i2_trial  o1_trial  o2_trial\n",
       "0         1         0         1         0\n",
       "1         1         1         0         1\n",
       "2         1         1         0         1\n",
       "3         0         0         0         1\n",
       "4         0         1         1         0\n",
       "5         0         0         0         1\n",
       "6         0         0         0         1\n",
       "7         1         1         0         1\n",
       "8         0         1         1         0\n",
       "9         0         1         1         0"
      ]
     },
     "execution_count": 33,
     "metadata": {},
     "output_type": "execute_result"
    }
   ],
   "source": [
    "df = pd.DataFrame(p_io)\n",
    "df.columns = ['i0_trial','i1_trial','o0_trial','o1_trial']\n",
    "df"
   ]
  },
  {
   "cell_type": "code",
   "execution_count": 190,
   "metadata": {},
   "outputs": [
    {
     "data": {
      "image/png": "[encoded data removed]",
      "text/plain": [
       "<Figure size 576x576 with 4 Axes>"
      ]
     },
     "metadata": {},
     "output_type": "display_data"
    }
   ],
   "source": [
    "sns.set_style('dark')\n",
    "sns.set_context('paper')\n",
    "num_plots = 4\n",
    "toshow = np.random.choice(output.shape[0],5,replace = False)\n",
    "f,axes = plt.subplots(4,1,figsize = (8,8),sharey = True,sharex = True)\n",
    "axes.flatten()\n",
    "for i,ax in zip(toshow,axes):\n",
    "    ax.plot(range(0, len(output[i,:,:])*dt,dt),output[i,:,:])\n",
    "    ax.set_title(i)\n",
    "    ax.plot(range(0, len(y[i,:,:])*dt,dt), y[i,:,:])\n",
    "#     ax.plot(range(0, len(x[i,:,:])*dt,dt), x[i,:,:],':')\n",
    "    ax.plot(range(0, len(x[i,1:,:].mean(axis=1))*dt,dt), x[i,1:,:].mean(axis=1),':')\n",
    "plt.tight_layout()"
   ]
  },
  {
   "cell_type": "code",
   "execution_count": 191,
   "metadata": {},
   "outputs": [],
   "source": [
    "weights = basicModel.get_weights()\n",
    "E = np.diag(weights['Dale_rec'])>0\n",
    "I = np.diag(weights['Dale_rec'])<0\n",
    "inputw, outputw, allw = weight_concat(basicModel)"
   ]
  },
  {
   "cell_type": "code",
   "execution_count": 197,
   "metadata": {},
   "outputs": [
    {
     "data": {
      "image/png": "[encoded data removed]",
      "text/plain": [
       "<Figure size 576x432 with 3 Axes>"
      ]
     },
     "metadata": {},
     "output_type": "display_data"
    }
   ],
   "source": [
    "f,ax = plt.subplots(3,1,figsize = (8,6),sharex = True, sharey = True)\n",
    "\n",
    "i = np.random.choice(output.shape[0])\n",
    "ax[0].plot(range(0, len(state_var[i,:,:])*dt,dt),state_var[i,:,:])\n",
    "plt.ylabel(\"State Variable Value\")\n",
    "plt.xlabel(\"Time (ms)\")\n",
    "ax[0].set_title(i)\n",
    "\n",
    "for ind in np.where(E)[0]:\n",
    "    ax[1].plot(range(0, len(state_var[i,:,ind])*dt,dt),state_var[i,:,ind],'r',alpha = 0.3)\n",
    "plt.ylabel(\"State Variable Value\")\n",
    "plt.xlabel(\"Time (ms)\")\n",
    "\n",
    "for ind in np.where(I)[0]:\n",
    "    ax[2].plot(range(0, len(state_var[i,:,ind])*dt,dt),state_var[i,:,ind],'b',alpha = 0.3)\n",
    "plt.ylabel(\"State Variable Value\")\n",
    "plt.xlabel(\"Time (ms)\")\n",
    "plt.tight_layout()"
   ]
  },
  {
   "cell_type": "code",
   "execution_count": 198,
   "metadata": {},
   "outputs": [
    {
     "data": {
      "image/png": "[encoded data removed]",
      "text/plain": [
       "<Figure size 1152x288 with 4 Axes>"
      ]
     },
     "metadata": {},
     "output_type": "display_data"
    },
    {
     "data": {
      "image/png": "[encoded data removed]",
      "text/plain": [
       "<Figure size 1152x288 with 4 Axes>"
      ]
     },
     "metadata": {},
     "output_type": "display_data"
    },
    {
     "data": {
      "image/png": "[encoded data removed]",
      "text/plain": [
       "<Figure size 1152x288 with 4 Axes>"
      ]
     },
     "metadata": {},
     "output_type": "display_data"
    }
   ],
   "source": [
    "weight_sort_plot(inputw)\n",
    "weight_sort_plot(outputw)\n",
    "weight_sort_plot(allw)"
   ]
  },
  {
   "cell_type": "code",
   "execution_count": 199,
   "metadata": {},
   "outputs": [
    {
     "data": {
      "image/png": "[encoded data removed]",
      "text/plain": [
       "<Figure size 432x288 with 3 Axes>"
      ]
     },
     "metadata": {},
     "output_type": "display_data"
    }
   ],
   "source": [
    "f,ax = plt.subplots(1,3)\n",
    "for axi,key in  enumerate(['W_in', 'W_rec', 'W_out']):\n",
    "    ax[axi].imshow(weights[key],aspect = 'auto')\n",
    "    ax[axi].set_title(key)\n",
    "plt.tight_layout()"
   ]
  },
  {
   "cell_type": "code",
   "execution_count": null,
   "metadata": {},
   "outputs": [],
   "source": []
  },
  {
   "cell_type": "code",
   "execution_count": 100,
   "metadata": {},
   "outputs": [
    {
     "ename": "ValueError",
     "evalue": "The condensed distance matrix must contain only finite values.",
     "output_type": "error",
     "traceback": [
      "\u001b[1;31m---------------------------------------------------------------------------\u001b[0m",
      "\u001b[1;31mValueError\u001b[0m                                Traceback (most recent call last)",
      "\u001b[1;32m<ipython-input-100-d7a4f496f9a1>\u001b[0m in \u001b[0;36m<module>\u001b[1;34m\u001b[0m\n\u001b[0;32m      1\u001b[0m \u001b[0mweight_sort_plot\u001b[0m\u001b[1;33m(\u001b[0m\u001b[0mweights\u001b[0m\u001b[1;33m[\u001b[0m\u001b[1;34m'W_in'\u001b[0m\u001b[1;33m]\u001b[0m\u001b[1;33m[\u001b[0m\u001b[0mE\u001b[0m\u001b[1;33m,\u001b[0m\u001b[1;33m:\u001b[0m\u001b[1;33m]\u001b[0m\u001b[1;33m)\u001b[0m\u001b[1;33m\u001b[0m\u001b[1;33m\u001b[0m\u001b[0m\n\u001b[0;32m      2\u001b[0m \u001b[0mweight_sort_plot\u001b[0m\u001b[1;33m(\u001b[0m\u001b[0mweights\u001b[0m\u001b[1;33m[\u001b[0m\u001b[1;34m'W_rec'\u001b[0m\u001b[1;33m]\u001b[0m\u001b[1;33m[\u001b[0m\u001b[0mE\u001b[0m\u001b[1;33m,\u001b[0m\u001b[1;33m:\u001b[0m\u001b[1;33m]\u001b[0m\u001b[1;33m)\u001b[0m\u001b[1;33m\u001b[0m\u001b[1;33m\u001b[0m\u001b[0m\n\u001b[1;32m----> 3\u001b[1;33m \u001b[0mweight_sort_plot\u001b[0m\u001b[1;33m(\u001b[0m\u001b[0mweights\u001b[0m\u001b[1;33m[\u001b[0m\u001b[1;34m'W_out'\u001b[0m\u001b[1;33m]\u001b[0m\u001b[1;33m[\u001b[0m\u001b[1;33m:\u001b[0m\u001b[1;33m,\u001b[0m\u001b[0mE\u001b[0m\u001b[1;33m]\u001b[0m\u001b[1;33m.\u001b[0m\u001b[0mT\u001b[0m\u001b[1;33m)\u001b[0m\u001b[1;33m\u001b[0m\u001b[1;33m\u001b[0m\u001b[0m\n\u001b[0m",
      "\u001b[1;32m<ipython-input-29-63847107dbf3>\u001b[0m in \u001b[0;36mweight_sort_plot\u001b[1;34m(W)\u001b[0m\n\u001b[0;32m     24\u001b[0m     \u001b[0mcorr\u001b[0m \u001b[1;33m=\u001b[0m \u001b[0mnp\u001b[0m\u001b[1;33m.\u001b[0m\u001b[0mcorrcoef\u001b[0m\u001b[1;33m(\u001b[0m\u001b[0mthis_W\u001b[0m\u001b[1;33m)\u001b[0m\u001b[1;33m\u001b[0m\u001b[1;33m\u001b[0m\u001b[0m\n\u001b[0;32m     25\u001b[0m     \u001b[0mpdist\u001b[0m \u001b[1;33m=\u001b[0m \u001b[0mspc\u001b[0m\u001b[1;33m.\u001b[0m\u001b[0mdistance\u001b[0m\u001b[1;33m.\u001b[0m\u001b[0mpdist\u001b[0m\u001b[1;33m(\u001b[0m\u001b[0mcorr\u001b[0m\u001b[1;33m)\u001b[0m\u001b[1;33m\u001b[0m\u001b[1;33m\u001b[0m\u001b[0m\n\u001b[1;32m---> 26\u001b[1;33m     \u001b[0mlinkage\u001b[0m \u001b[1;33m=\u001b[0m \u001b[0mspc\u001b[0m\u001b[1;33m.\u001b[0m\u001b[0mlinkage\u001b[0m\u001b[1;33m(\u001b[0m\u001b[0mpdist\u001b[0m\u001b[1;33m,\u001b[0m \u001b[0mmethod\u001b[0m\u001b[1;33m=\u001b[0m\u001b[1;34m'complete'\u001b[0m\u001b[1;33m)\u001b[0m\u001b[1;33m\u001b[0m\u001b[1;33m\u001b[0m\u001b[0m\n\u001b[0m\u001b[0;32m     27\u001b[0m     \u001b[0mcorr_idx\u001b[0m \u001b[1;33m=\u001b[0m \u001b[0mnp\u001b[0m\u001b[1;33m.\u001b[0m\u001b[0margsort\u001b[0m\u001b[1;33m(\u001b[0m\u001b[0mspc\u001b[0m\u001b[1;33m.\u001b[0m\u001b[0mfcluster\u001b[0m\u001b[1;33m(\u001b[0m\u001b[0mlinkage\u001b[0m\u001b[1;33m,\u001b[0m \u001b[1;36m0.5\u001b[0m \u001b[1;33m*\u001b[0m \u001b[0mpdist\u001b[0m\u001b[1;33m.\u001b[0m\u001b[0mmax\u001b[0m\u001b[1;33m(\u001b[0m\u001b[1;33m)\u001b[0m\u001b[1;33m,\u001b[0m \u001b[1;34m'distance'\u001b[0m\u001b[1;33m)\u001b[0m\u001b[1;33m)\u001b[0m\u001b[1;33m\u001b[0m\u001b[1;33m\u001b[0m\u001b[0m\n\u001b[0;32m     28\u001b[0m     \u001b[0mcorr_sort\u001b[0m \u001b[1;33m=\u001b[0m \u001b[0mnp\u001b[0m\u001b[1;33m.\u001b[0m\u001b[0mcorrcoef\u001b[0m\u001b[1;33m(\u001b[0m\u001b[0mthis_W\u001b[0m\u001b[1;33m[\u001b[0m\u001b[0mcorr_idx\u001b[0m\u001b[1;33m]\u001b[0m\u001b[1;33m)\u001b[0m\u001b[1;33m\u001b[0m\u001b[1;33m\u001b[0m\u001b[0m\n",
      "\u001b[1;32m~\\AppData\\Local\\Continuum\\anaconda3\\envs\\prnn\\lib\\site-packages\\scipy\\cluster\\hierarchy.py\u001b[0m in \u001b[0;36mlinkage\u001b[1;34m(y, method, metric, optimal_ordering)\u001b[0m\n\u001b[0;32m   1107\u001b[0m \u001b[1;33m\u001b[0m\u001b[0m\n\u001b[0;32m   1108\u001b[0m     \u001b[1;32mif\u001b[0m \u001b[1;32mnot\u001b[0m \u001b[0mnp\u001b[0m\u001b[1;33m.\u001b[0m\u001b[0mall\u001b[0m\u001b[1;33m(\u001b[0m\u001b[0mnp\u001b[0m\u001b[1;33m.\u001b[0m\u001b[0misfinite\u001b[0m\u001b[1;33m(\u001b[0m\u001b[0my\u001b[0m\u001b[1;33m)\u001b[0m\u001b[1;33m)\u001b[0m\u001b[1;33m:\u001b[0m\u001b[1;33m\u001b[0m\u001b[1;33m\u001b[0m\u001b[0m\n\u001b[1;32m-> 1109\u001b[1;33m         raise ValueError(\"The condensed distance matrix must contain only \"\n\u001b[0m\u001b[0;32m   1110\u001b[0m                          \"finite values.\")\n\u001b[0;32m   1111\u001b[0m \u001b[1;33m\u001b[0m\u001b[0m\n",
      "\u001b[1;31mValueError\u001b[0m: The condensed distance matrix must contain only finite values."
     ]
    },
    {
     "data": {
      "image/png": "[encoded data removed]",
      "text/plain": [
       "<Figure size 1152x288 with 4 Axes>"
      ]
     },
     "metadata": {},
     "output_type": "display_data"
    },
    {
     "data": {
      "image/png": "[encoded data removed]",
      "text/plain": [
       "<Figure size 1152x288 with 4 Axes>"
      ]
     },
     "metadata": {},
     "output_type": "display_data"
    }
   ],
   "source": [
    "weight_sort_plot(weights['W_in'][E,:])\n",
    "weight_sort_plot(weights['W_rec'][E,:])\n",
    "weight_sort_plot(weights['W_out'][:,E].T)"
   ]
  },
  {
   "cell_type": "code",
   "execution_count": 102,
   "metadata": {},
   "outputs": [
    {
     "ename": "ValueError",
     "evalue": "The condensed distance matrix must contain only finite values.",
     "output_type": "error",
     "traceback": [
      "\u001b[1;31m---------------------------------------------------------------------------\u001b[0m",
      "\u001b[1;31mValueError\u001b[0m                                Traceback (most recent call last)",
      "\u001b[1;32m<ipython-input-102-bcc75870b1ac>\u001b[0m in \u001b[0;36m<module>\u001b[1;34m\u001b[0m\n\u001b[0;32m      4\u001b[0m \u001b[0mcorr\u001b[0m \u001b[1;33m=\u001b[0m \u001b[0mnp\u001b[0m\u001b[1;33m.\u001b[0m\u001b[0mcorrcoef\u001b[0m\u001b[1;33m(\u001b[0m\u001b[0mthis_W\u001b[0m\u001b[1;33m)\u001b[0m\u001b[1;33m\u001b[0m\u001b[1;33m\u001b[0m\u001b[0m\n\u001b[0;32m      5\u001b[0m \u001b[0mpdist\u001b[0m \u001b[1;33m=\u001b[0m \u001b[0mspc\u001b[0m\u001b[1;33m.\u001b[0m\u001b[0mdistance\u001b[0m\u001b[1;33m.\u001b[0m\u001b[0mpdist\u001b[0m\u001b[1;33m(\u001b[0m\u001b[0mcorr\u001b[0m\u001b[1;33m)\u001b[0m\u001b[1;33m\u001b[0m\u001b[1;33m\u001b[0m\u001b[0m\n\u001b[1;32m----> 6\u001b[1;33m \u001b[0mlinkage\u001b[0m \u001b[1;33m=\u001b[0m \u001b[0mspc\u001b[0m\u001b[1;33m.\u001b[0m\u001b[0mlinkage\u001b[0m\u001b[1;33m(\u001b[0m\u001b[0mpdist\u001b[0m\u001b[1;33m,\u001b[0m \u001b[0mmethod\u001b[0m\u001b[1;33m=\u001b[0m\u001b[1;34m'complete'\u001b[0m\u001b[1;33m)\u001b[0m\u001b[1;33m\u001b[0m\u001b[1;33m\u001b[0m\u001b[0m\n\u001b[0m\u001b[0;32m      7\u001b[0m \u001b[0mcorr_idx\u001b[0m \u001b[1;33m=\u001b[0m \u001b[0mnp\u001b[0m\u001b[1;33m.\u001b[0m\u001b[0margsort\u001b[0m\u001b[1;33m(\u001b[0m\u001b[0mspc\u001b[0m\u001b[1;33m.\u001b[0m\u001b[0mfcluster\u001b[0m\u001b[1;33m(\u001b[0m\u001b[0mlinkage\u001b[0m\u001b[1;33m,\u001b[0m \u001b[1;36m0.5\u001b[0m \u001b[1;33m*\u001b[0m \u001b[0mpdist\u001b[0m\u001b[1;33m.\u001b[0m\u001b[0mmax\u001b[0m\u001b[1;33m(\u001b[0m\u001b[1;33m)\u001b[0m\u001b[1;33m,\u001b[0m \u001b[1;34m'distance'\u001b[0m\u001b[1;33m)\u001b[0m\u001b[1;33m)\u001b[0m\u001b[1;33m\u001b[0m\u001b[1;33m\u001b[0m\u001b[0m\n\u001b[0;32m      8\u001b[0m \u001b[0mcorr_sort\u001b[0m \u001b[1;33m=\u001b[0m \u001b[0mnp\u001b[0m\u001b[1;33m.\u001b[0m\u001b[0mcorrcoef\u001b[0m\u001b[1;33m(\u001b[0m\u001b[0mthis_W\u001b[0m\u001b[1;33m[\u001b[0m\u001b[0mcorr_idx\u001b[0m\u001b[1;33m]\u001b[0m\u001b[1;33m)\u001b[0m\u001b[1;33m\u001b[0m\u001b[1;33m\u001b[0m\u001b[0m\n",
      "\u001b[1;32m~\\AppData\\Local\\Continuum\\anaconda3\\envs\\prnn\\lib\\site-packages\\scipy\\cluster\\hierarchy.py\u001b[0m in \u001b[0;36mlinkage\u001b[1;34m(y, method, metric, optimal_ordering)\u001b[0m\n\u001b[0;32m   1107\u001b[0m \u001b[1;33m\u001b[0m\u001b[0m\n\u001b[0;32m   1108\u001b[0m     \u001b[1;32mif\u001b[0m \u001b[1;32mnot\u001b[0m \u001b[0mnp\u001b[0m\u001b[1;33m.\u001b[0m\u001b[0mall\u001b[0m\u001b[1;33m(\u001b[0m\u001b[0mnp\u001b[0m\u001b[1;33m.\u001b[0m\u001b[0misfinite\u001b[0m\u001b[1;33m(\u001b[0m\u001b[0my\u001b[0m\u001b[1;33m)\u001b[0m\u001b[1;33m)\u001b[0m\u001b[1;33m:\u001b[0m\u001b[1;33m\u001b[0m\u001b[1;33m\u001b[0m\u001b[0m\n\u001b[1;32m-> 1109\u001b[1;33m         raise ValueError(\"The condensed distance matrix must contain only \"\n\u001b[0m\u001b[0;32m   1110\u001b[0m                          \"finite values.\")\n\u001b[0;32m   1111\u001b[0m \u001b[1;33m\u001b[0m\u001b[0m\n",
      "\u001b[1;31mValueError\u001b[0m: The condensed distance matrix must contain only finite values."
     ]
    }
   ],
   "source": [
    "# this_W = weights['W_in'][E,:]\n",
    "this_W = weights['W_out'][:,E].T\n",
    "# this_W = weights['W_rec'][E,:]\n",
    "corr = np.corrcoef(this_W)\n",
    "pdist = spc.distance.pdist(corr)\n",
    "linkage = spc.linkage(pdist, method='complete')\n",
    "corr_idx = np.argsort(spc.fcluster(linkage, 0.5 * pdist.max(), 'distance'))\n",
    "corr_sort = np.corrcoef(this_W[corr_idx])\n",
    "max_idx = np.argsort(np.argmax(this_W,axis = 1))\n",
    "f,ax = plt.subplots(1,4,figsize = (16,4))\n",
    "ax[0].imshow(corr_sort,aspect = 'auto')\n",
    "ax[1].imshow(this_W,aspect = 'auto')\n",
    "ax[2].imshow(this_W[corr_idx,:],aspect = 'auto')\n",
    "ax[3].imshow(this_W[max_idx,:],aspect = 'auto')\n",
    "this_idx = corr_idx\n"
   ]
  },
  {
   "cell_type": "code",
   "execution_count": 72,
   "metadata": {},
   "outputs": [
    {
     "ename": "NameError",
     "evalue": "name 'this_idx' is not defined",
     "output_type": "error",
     "traceback": [
      "\u001b[1;31m---------------------------------------------------------------------------\u001b[0m",
      "\u001b[1;31mNameError\u001b[0m                                 Traceback (most recent call last)",
      "\u001b[1;32m<ipython-input-72-5f384c35b10a>\u001b[0m in \u001b[0;36m<module>\u001b[1;34m\u001b[0m\n\u001b[0;32m      1\u001b[0m \u001b[0mf\u001b[0m\u001b[1;33m,\u001b[0m\u001b[0max\u001b[0m \u001b[1;33m=\u001b[0m \u001b[0mplt\u001b[0m\u001b[1;33m.\u001b[0m\u001b[0msubplots\u001b[0m\u001b[1;33m(\u001b[0m\u001b[1;36m1\u001b[0m\u001b[1;33m,\u001b[0m\u001b[1;36m3\u001b[0m\u001b[1;33m,\u001b[0m\u001b[0mfigsize\u001b[0m \u001b[1;33m=\u001b[0m \u001b[1;33m(\u001b[0m\u001b[1;36m16\u001b[0m\u001b[1;33m,\u001b[0m\u001b[1;36m6\u001b[0m\u001b[1;33m)\u001b[0m\u001b[1;33m)\u001b[0m\u001b[1;33m\u001b[0m\u001b[1;33m\u001b[0m\u001b[0m\n\u001b[1;32m----> 2\u001b[1;33m \u001b[0max\u001b[0m\u001b[1;33m[\u001b[0m\u001b[1;36m0\u001b[0m\u001b[1;33m]\u001b[0m\u001b[1;33m.\u001b[0m\u001b[0mimshow\u001b[0m\u001b[1;33m(\u001b[0m\u001b[0mweights\u001b[0m\u001b[1;33m[\u001b[0m\u001b[1;34m'W_in'\u001b[0m\u001b[1;33m]\u001b[0m\u001b[1;33m[\u001b[0m\u001b[0mthis_idx\u001b[0m\u001b[1;33m,\u001b[0m\u001b[1;33m:\u001b[0m\u001b[1;33m]\u001b[0m\u001b[1;33m,\u001b[0m\u001b[0maspect\u001b[0m \u001b[1;33m=\u001b[0m \u001b[1;34m'auto'\u001b[0m\u001b[1;33m)\u001b[0m\u001b[1;33m\u001b[0m\u001b[1;33m\u001b[0m\u001b[0m\n\u001b[0m\u001b[0;32m      3\u001b[0m \u001b[0max\u001b[0m\u001b[1;33m[\u001b[0m\u001b[1;36m1\u001b[0m\u001b[1;33m]\u001b[0m\u001b[1;33m.\u001b[0m\u001b[0mimshow\u001b[0m\u001b[1;33m(\u001b[0m\u001b[0mweights\u001b[0m\u001b[1;33m[\u001b[0m\u001b[1;34m'W_rec'\u001b[0m\u001b[1;33m]\u001b[0m\u001b[1;33m[\u001b[0m\u001b[0mthis_idx\u001b[0m\u001b[1;33m,\u001b[0m\u001b[1;33m:\u001b[0m\u001b[1;33m]\u001b[0m\u001b[1;33m,\u001b[0m\u001b[0maspect\u001b[0m \u001b[1;33m=\u001b[0m \u001b[1;34m'auto'\u001b[0m\u001b[1;33m)\u001b[0m\u001b[1;33m\u001b[0m\u001b[1;33m\u001b[0m\u001b[0m\n\u001b[0;32m      4\u001b[0m \u001b[0max\u001b[0m\u001b[1;33m[\u001b[0m\u001b[1;36m2\u001b[0m\u001b[1;33m]\u001b[0m\u001b[1;33m.\u001b[0m\u001b[0mimshow\u001b[0m\u001b[1;33m(\u001b[0m\u001b[0mweights\u001b[0m\u001b[1;33m[\u001b[0m\u001b[1;34m'W_out'\u001b[0m\u001b[1;33m]\u001b[0m\u001b[1;33m[\u001b[0m\u001b[1;33m:\u001b[0m\u001b[1;33m,\u001b[0m\u001b[0mthis_idx\u001b[0m\u001b[1;33m]\u001b[0m\u001b[1;33m.\u001b[0m\u001b[0mT\u001b[0m\u001b[1;33m,\u001b[0m\u001b[0maspect\u001b[0m \u001b[1;33m=\u001b[0m \u001b[1;34m'auto'\u001b[0m\u001b[1;33m)\u001b[0m\u001b[1;33m\u001b[0m\u001b[1;33m\u001b[0m\u001b[0m\n",
      "\u001b[1;31mNameError\u001b[0m: name 'this_idx' is not defined"
     ]
    },
    {
     "data": {
      "image/png": "[encoded data removed]",
      "text/plain": [
       "<Figure size 1152x432 with 3 Axes>"
      ]
     },
     "metadata": {},
     "output_type": "display_data"
    }
   ],
   "source": [
    "f,ax = plt.subplots(1,3,figsize = (16,6))\n",
    "ax[0].imshow(weights['W_in'][this_idx,:],aspect = 'auto')\n",
    "ax[1].imshow(weights['W_rec'][this_idx,:],aspect = 'auto')\n",
    "ax[2].imshow(weights['W_out'][:,this_idx].T,aspect = 'auto')"
   ]
  },
  {
   "cell_type": "code",
   "execution_count": null,
   "metadata": {},
   "outputs": [],
   "source": [
    "weights['W_out'].shape"
   ]
  },
  {
   "cell_type": "code",
   "execution_count": null,
   "metadata": {},
   "outputs": [],
   "source": [
    "import seaborn as sns\n",
    "sns.distplot(allw.flatten())"
   ]
  },
  {
   "cell_type": "code",
   "execution_count": null,
   "metadata": {},
   "outputs": [],
   "source": [
    "weight_sort_plot(allw[E,:])"
   ]
  },
  {
   "cell_type": "code",
   "execution_count": null,
   "metadata": {},
   "outputs": [],
   "source": [
    "dale_vec = np.ones(N_rec)\n",
    "        \n",
    "dale_vec[int(dale_ratio * N_rec):] = -1\n",
    "dale_rec = np.diag(dale_vec)\n",
    "dale_vec[int(dale_ratio * N_rec):] = 0\n",
    "dale_out = np.diag(dale_vec)"
   ]
  },
  {
   "cell_type": "code",
   "execution_count": null,
   "metadata": {},
   "outputs": [],
   "source": [
    "dale_rec"
   ]
  },
  {
   "cell_type": "code",
   "execution_count": null,
   "metadata": {},
   "outputs": [],
   "source": []
  },
  {
   "cell_type": "markdown",
   "metadata": {},
   "source": [
    "Clean up the model to clear out the tensorflow namespace"
   ]
  },
  {
   "cell_type": "code",
   "execution_count": null,
   "metadata": {},
   "outputs": [],
   "source": [
    "basicModel.destruct()"
   ]
  },
  {
   "cell_type": "code",
   "execution_count": null,
   "metadata": {},
   "outputs": [],
   "source": [
    "def gaussian_psth(mu = 0 * ms, sigma = 0 * ms):\n",
    "        time_bins = np.arange(0,T,dt)\n",
    "        mu_ = mu \n",
    "        sigma_ = sigma  \n",
    "        psth = (1/(sigma * np.sqrt(2 * np.pi)) *np.exp( - (time_bins - mu)**2 / (2 * sigma**2)))\n",
    "        psth = psth/sum(psth)\n",
    "        return psth,time_bins\n",
    "    \n",
    "def uniform_psth():\n",
    "        time_bins = np.arange(0,T,dt)\n",
    "        psth = np.ones(time_bins.shape)*dt/second\n",
    "        return psth,time_bins\n",
    "\n",
    "def spikes_from_psth(psth):\n",
    "    return np.random.binomial(1,psth)\n",
    "\n",
    "def generate_population_spikes(kernel,rates):\n",
    "    spikes = []\n",
    "    ind = []\n",
    "    for i,r in enumerate(rates):\n",
    "        this_spikes = np.where(spikes_from_psth(kernel*r))[0]\n",
    "        this_ind = np.ones(this_spikes.shape) * i\n",
    "        spikes.append(this_spikes)\n",
    "        ind.append(this_ind)\n",
    "    spikes = np.concatenate(spikes) *dt\n",
    "    ind = np.concatenate(ind).astype(int)\n",
    "    return spikes, ind    \n",
    "\n",
    "def diff_of_exps(x_range,tau_rise = 1,tau_decay = 3, onset = 0):\n",
    "    y = np.zeros(x_range.shape)\n",
    "    for i,x in enumerate(x_range):\n",
    "        y[i] = (1/np.exp((x-onset)/tau_decay)) - (1/np.exp((x-onset)/tau_rise))\n",
    "    y[y<0] = 0\n",
    "    return y \n",
    "#     onset_time = int(kernel_length*onset)\n",
    "alpha_k = diff_of_exps(np.arange(30),tau_rise = 0.1,tau_decay = 3, onset = 14)   \n",
    "plt.plot(np.arange(30),alpha_k)"
   ]
  }
 ],
 "metadata": {
  "kernelspec": {
   "display_name": "'prnn'",
   "language": "python",
   "name": "myenv"
  },
  "language_info": {
   "codemirror_mode": {
    "name": "ipython",
    "version": 3
   },
   "file_extension": ".py",
   "mimetype": "text/x-python",
   "name": "python",
   "nbconvert_exporter": "python",
   "pygments_lexer": "ipython3",
   "version": "3.7.3"
  }
 },
 "nbformat": 4,
 "nbformat_minor": 2
}
