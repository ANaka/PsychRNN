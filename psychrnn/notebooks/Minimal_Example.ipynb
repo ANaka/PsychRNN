{
 "cells": [
  {
   "cell_type": "code",
   "execution_count": 2,
   "metadata": {},
   "outputs": [],
   "source": [
    "import sys\n",
    "sys.path.insert(0,'/Users/nakaa1/code/py/PsychRNN')"
   ]
  },
  {
   "cell_type": "code",
   "execution_count": 3,
   "metadata": {},
   "outputs": [
    {
     "name": "stdout",
     "output_type": "stream",
     "text": [
      "WARNING:tensorflow:From /Users/nakaa1/anaconda3/envs/psychrnn/lib/python3.7/site-packages/tensorflow/python/framework/op_def_library.py:263: colocate_with (from tensorflow.python.framework.ops) is deprecated and will be removed in a future version.\n",
      "Instructions for updating:\n",
      "Colocations handled automatically by placer.\n"
     ]
    }
   ],
   "source": [
    "import psychrnn\n",
    "from psychrnn.tasks import rdm as rd\n",
    "from psychrnn.backend.models.basic import Basic\n",
    "import tensorflow as tf\n",
    "\n",
    "from matplotlib import pyplot as plt\n",
    "%matplotlib inline\n",
    "\n",
    "rdm = rd.RDM(dt = 10, tau = 100, T = 2000, N_batch = 128)\n",
    "gen = rdm.batch_generator()\n",
    "\n",
    "params = rdm.__dict__\n",
    "params['name'] = 'model'\n",
    "params['N_rec'] = 50\n",
    "\n",
    "model = Basic(params)\n",
    "model.build()"
   ]
  },
  {
   "cell_type": "code",
   "execution_count": 4,
   "metadata": {},
   "outputs": [
    {
     "name": "stdout",
     "output_type": "stream",
     "text": [
      "Iter 1280, Minibatch Loss= 0.215863\n",
      "Iter 2560, Minibatch Loss= 0.169688\n",
      "Iter 3840, Minibatch Loss= 0.127760\n",
      "Iter 5120, Minibatch Loss= 0.133750\n",
      "Iter 6400, Minibatch Loss= 0.125126\n",
      "Iter 7680, Minibatch Loss= 0.119346\n",
      "Iter 8960, Minibatch Loss= 0.118838\n",
      "Optimization finished!\n"
     ]
    },
    {
     "data": {
      "text/plain": [
       "([0.21586263,\n",
       "  0.16968781,\n",
       "  0.12776026,\n",
       "  0.13375042,\n",
       "  0.12512603,\n",
       "  0.119345725,\n",
       "  0.11883798],\n",
       " 130.2828369140625,\n",
       " 29.643080949783325)"
      ]
     },
     "execution_count": 4,
     "metadata": {},
     "output_type": "execute_result"
    }
   ],
   "source": [
    "model.train(gen)"
   ]
  },
  {
   "cell_type": "code",
   "execution_count": 5,
   "metadata": {},
   "outputs": [
    {
     "data": {
      "text/plain": [
       "[<matplotlib.lines.Line2D at 0x12c33e2e8>,\n",
       " <matplotlib.lines.Line2D at 0x12c33e438>]"
      ]
     },
     "execution_count": 5,
     "metadata": {},
     "output_type": "execute_result"
    },
    {
     "data": {
      "image/png": "[encoded data removed]",
      "text/plain": [
       "<Figure size 432x288 with 1 Axes>"
      ]
     },
     "metadata": {
      "needs_background": "light"
     },
     "output_type": "display_data"
    }
   ],
   "source": [
    "x,_,_ = next(gen)\n",
    "\n",
    "plt.plot(model.test(x)[0][0,:,:])\n",
    "\n",
    "# model.destruct()"
   ]
  },
  {
   "cell_type": "code",
   "execution_count": null,
   "metadata": {},
   "outputs": [],
   "source": []
  }
 ],
 "metadata": {
  "kernelspec": {
   "display_name": "Python [conda env:psychrnn]",
   "language": "python",
   "name": "conda-env-psychrnn-py"
  },
  "language_info": {
   "codemirror_mode": {
    "name": "ipython",
    "version": 3
   },
   "file_extension": ".py",
   "mimetype": "text/x-python",
   "name": "python",
   "nbconvert_exporter": "python",
   "pygments_lexer": "ipython3",
   "version": "3.7.3"
  }
 },
 "nbformat": 4,
 "nbformat_minor": 2
}
